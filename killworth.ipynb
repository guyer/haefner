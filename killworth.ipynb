{
 "cells": [
  {
   "cell_type": "markdown",
   "metadata": {},
   "source": [
    "Solves the adjustment problem in 2D as described by Killworth et al. (1991):\n",
    "\n",
    " * CROSS-EQUATORIAL GEOSTROPHIC ADJUSTMENT\n",
    " * http://journals.ametsoc.org/doi/pdf/10.1175/1520-0485%281991%29021%3C1581%3ACEGA%3E2.0.CO%3B2\n",
    "\n",
    "Author:\n",
    "        Dion Häfner (mail@dionhaefner.de)"
   ]
  },
  {
   "cell_type": "code",
   "execution_count": 1,
   "metadata": {
    "collapsed": true
   },
   "outputs": [],
   "source": [
    "#%matplotlib inline"
   ]
  },
  {
   "cell_type": "code",
   "execution_count": 2,
   "metadata": {
    "collapsed": true
   },
   "outputs": [],
   "source": [
    "inifile = \"parameters.ini\""
   ]
  },
  {
   "cell_type": "markdown",
   "metadata": {},
   "source": [
    "# IMPORT PACKAGES"
   ]
  },
  {
   "cell_type": "code",
   "execution_count": 3,
   "metadata": {
    "collapsed": false
   },
   "outputs": [],
   "source": [
    "import matplotlib as mpl\n",
    "mpl.use('Agg')\n",
    "from matplotlib import pyplot as plt\n",
    "from fipy import *\n",
    "from fipy.tools import numerix\n",
    "from fipy.meshes.uniformGrid2D import UniformGrid2D\n",
    "import sys\n",
    "import os\n",
    "try:\n",
    "    import seaborn as sns\n",
    "    sns.set(\"talk\")\n",
    "    have_seaborn = True\n",
    "except ImportError:\n",
    "    have_seaborn = False\n",
    "import numpy as np\n",
    "try:\n",
    "    import ConfigParser as configparser\n",
    "except ImportError:\n",
    "    import configparser\n",
    "import sys"
   ]
  },
  {
   "cell_type": "markdown",
   "metadata": {},
   "source": [
    "# INITIALIZATION"
   ]
  },
  {
   "cell_type": "markdown",
   "metadata": {},
   "source": [
    "## DEFINE CUSTOM \"TYPES\""
   ]
  },
  {
   "cell_type": "code",
   "execution_count": 4,
   "metadata": {
    "collapsed": true
   },
   "outputs": [],
   "source": [
    "def floatlist(x):\n",
    "    xlist = x.split()\n",
    "    return list(map(float,xlist))\n",
    "\n",
    "def intlist(x):\n",
    "    xlist = x.split()\n",
    "    return list(map(int,xlist))"
   ]
  },
  {
   "cell_type": "markdown",
   "metadata": {},
   "source": [
    "## SET VALID PARAMETER KEYS"
   ]
  },
  {
   "cell_type": "code",
   "execution_count": 5,
   "metadata": {
    "collapsed": true
   },
   "outputs": [],
   "source": [
    "PARAMETER_KEYS = (\n",
    "    (\"general\", ((\"name\",str),)),\n",
    "    (\"domain\", ((\"L\",floatlist), (\"N\",intlist))),\n",
    "    (\"initial\", ((\"Variable\",str),(\"Val1\",float),(\"Val2\",float),(\"Y\",floatlist))),\n",
    "    (\"parameters\", ((\"Ah\",float),(\"g\",float),(\"beta\",float),(\"H\",float))),\n",
    "    (\"solver\", ((\"t1\",float), (\"dtIncreaseFactor\",float),\n",
    "                (\"dtDecreaseFactor\",float),(\"absTol\",float),\n",
    "                (\"timeStepDuration\",float),(\"maxIterations\",int))),\n",
    "    (\"output\", ((\"outputEvery\",float),))\n",
    ")"
   ]
  },
  {
   "cell_type": "markdown",
   "metadata": {},
   "source": [
    "## PARSE PARAMETER FILE"
   ]
  },
  {
   "cell_type": "code",
   "execution_count": 6,
   "metadata": {
    "collapsed": true
   },
   "outputs": [],
   "source": [
    "par = {}\n",
    "config = configparser.RawConfigParser()\n",
    "config.read(inifile)\n",
    "\n",
    "for section, keys in PARAMETER_KEYS:\n",
    "    for key, key_type in keys:\n",
    "        try:\n",
    "            par[key] = key_type(config.get(section, key))\n",
    "        except ValueError:\n",
    "            raise ValueError(\"Key {0} in section {1} must be of type {2}\"\\\n",
    "                    .format(key,section,key_type))"
   ]
  },
  {
   "cell_type": "markdown",
   "metadata": {},
   "source": [
    "## CONVERSION FACTORS"
   ]
  },
  {
   "cell_type": "code",
   "execution_count": 7,
   "metadata": {
    "collapsed": true
   },
   "outputs": [],
   "source": [
    "MS_TO_V = 1./np.sqrt(par[\"g\"]*par[\"H\"])\n",
    "DAY_TO_T = np.sqrt(2*par[\"beta\"]/MS_TO_V)*(3600*24)\n",
    "KM_TO_X = np.sqrt(2*par[\"beta\"]*MS_TO_V)*1000"
   ]
  },
  {
   "cell_type": "markdown",
   "metadata": {},
   "source": [
    "## CREATE OUTPUT FOLDER"
   ]
  },
  {
   "cell_type": "code",
   "execution_count": 8,
   "metadata": {
    "collapsed": true
   },
   "outputs": [],
   "source": [
    "OUTPUT_PATH = \"output/{0}\".format(par[\"name\"])\n",
    "if not os.path.exists(OUTPUT_PATH):\n",
    "    os.makedirs(OUTPUT_PATH)"
   ]
  },
  {
   "cell_type": "markdown",
   "metadata": {},
   "source": [
    "## MESH SETUP"
   ]
  },
  {
   "cell_type": "code",
   "execution_count": 9,
   "metadata": {
    "collapsed": true
   },
   "outputs": [],
   "source": [
    "dLx = par[\"L\"][0]/par[\"N\"][0]* KM_TO_X\n",
    "dLy = par[\"L\"][1]/par[\"N\"][1]* KM_TO_X\n",
    "mesh = UniformGrid2D(nx=par[\"N\"][0], ny=par[\"N\"][1], dx=dLx, dy=dLy,\n",
    "            origin=((-par[\"L\"][0]/2 * KM_TO_X,),(-par[\"L\"][1]/2 * KM_TO_X,)))"
   ]
  },
  {
   "cell_type": "markdown",
   "metadata": {},
   "source": [
    "## VARIABLE SETUP"
   ]
  },
  {
   "cell_type": "code",
   "execution_count": 10,
   "metadata": {
    "collapsed": true
   },
   "outputs": [],
   "source": [
    "height = CellVariable(mesh=mesh, name='Column height', hasOld=True)\n",
    "xVelocity = CellVariable(mesh=mesh, name='U', value=0., hasOld=True)\n",
    "yVelocity = CellVariable(mesh=mesh, name='V', value=0., hasOld=True)\n",
    "fVelocity = FaceVariable(mesh=mesh, name=\"Face velocity\", rank=1, value=0.)"
   ]
  },
  {
   "cell_type": "markdown",
   "metadata": {},
   "source": [
    "## INITIAL CONDITIONS"
   ]
  },
  {
   "cell_type": "code",
   "execution_count": 11,
   "metadata": {
    "collapsed": true
   },
   "outputs": [],
   "source": [
    "x, y = mesh.cellCenters\n",
    "segment = np.logical_and(par[\"Y\"][0]*KM_TO_X <= y, y <= par[\"Y\"][1]*KM_TO_X)\n",
    "if par[\"Variable\"] == \"height\":\n",
    "    height.setValue(par[\"Val2\"])\n",
    "    height.setValue(par[\"Val1\"], where=segment)\n",
    "elif par[\"Variable\"] == \"U\":\n",
    "    xVelocity.setValue(par[\"Val2\"])\n",
    "    xVelocity.setValue(par[\"Val1\"], where=segment)\n",
    "elif par[\"Variable\"] == \"V\":\n",
    "    yVelocity.setValue(par[\"Val2\"])\n",
    "    yVelocity.setValue(par[\"Val1\"], where=segment)\n",
    "else:\n",
    "    raise ValueError(\"Initial condition parameter 'Variable' must either be \"\n",
    "                    \"'height', 'U', or 'V'\")"
   ]
  },
  {
   "cell_type": "markdown",
   "metadata": {},
   "source": [
    "# EQUATION SETUP"
   ]
  },
  {
   "cell_type": "markdown",
   "metadata": {},
   "source": [
    "x velocity equation\n",
    "\\begin{aligned}\n",
    "u_t + u u_x + v u_y - \\frac{1}{2}y v &= -h_x + A_H(u_{xx} + u_{yy})\n",
    "\\\\\n",
    "\\frac{\\partial u}{\\partial t} + u \\frac{\\partial u}{\\partial x} + v \\frac{\\partial u}{\\partial y} - \\frac{1}{2}y v\n",
    "&= -\\frac{\\partial h}{\\partial x} + A_H\\nabla^2 u\n",
    "\\\\\n",
    "\\frac{\\partial u}{\\partial t} + [\\begin{matrix} u&v\\end{matrix}]\\cdot\\nabla u - \\frac{1}{2}y v\n",
    "&= -[\\begin{matrix} 1&0\\end{matrix}]\\nabla h + A_H\\nabla^2 u\n",
    "\\\\\n",
    "\\frac{\\partial u}{\\partial t} + \\nabla\\cdot\\left([\\begin{matrix} u&v\\end{matrix}] u\\right) - u\\nabla\\cdot[\\begin{matrix} u&v\\end{matrix}] - \\frac{1}{2}y v\n",
    "&= -\\nabla\\cdot\\left([\\begin{matrix} 1&0\\end{matrix}] h\\right) + \\nabla\\cdot\\left(A_H\\nabla u\\right)\n",
    "\\end{aligned}"
   ]
  },
  {
   "cell_type": "markdown",
   "metadata": {},
   "source": [
    "y velocity equation\n",
    "\\begin{aligned}\n",
    "v_t + u v_x + v v_y + \\frac{1}{2}y u &= -h_y + A_H(v_{xx} + v_{yy})\n",
    "\\\\\n",
    "\\frac{\\partial v}{\\partial t} + u \\frac{\\partial v}{\\partial x} + v \\frac{\\partial v}{\\partial y} + \\frac{1}{2}y y\n",
    "&= -\\frac{\\partial h}{\\partial y} + A_H\\nabla^2 v\n",
    "\\\\\n",
    "\\frac{\\partial v}{\\partial t} + [\\begin{matrix} u&v\\end{matrix}]\\cdot\\nabla v + \\frac{1}{2}y u\n",
    "&= -[\\begin{matrix} 0&1\\end{matrix}]\\nabla h + A_H\\nabla^2 v\n",
    "\\\\\n",
    "\\frac{\\partial v}{\\partial t} + \\nabla\\cdot\\left([\\begin{matrix} u&v\\end{matrix}] v\\right) - v\\nabla\\cdot[\\begin{matrix} u&v\\end{matrix}] + \\frac{1}{2}y u\n",
    "&= -\\nabla\\cdot\\left([\\begin{matrix} 0&1\\end{matrix}] h\\right) + \\nabla\\cdot\\left(A_H\\nabla v\\right)\n",
    "\\end{aligned}"
   ]
  },
  {
   "cell_type": "markdown",
   "metadata": {},
   "source": [
    "height equation\n",
    "\\begin{aligned}\n",
    "h_t + (u h)_x + (v h)_y &= 0\n",
    "\\\\\n",
    "\\frac{\\partial h}{\\partial t} + \\frac{\\partial}{\\partial x}(u h) + \\frac{\\partial}{\\partial y}(v h) &= 0\n",
    "\\\\\n",
    "\\frac{\\partial h}{\\partial t} + \\nabla\\cdot\\left([\\begin{matrix} u&v\\end{matrix}] h\\right) &= 0\n",
    "\\end{aligned}\n",
    "It is possible that better coupling can be obtained from\n",
    "\\begin{aligned}\n",
    "\\frac{\\partial h}{\\partial t} \n",
    "+ \\nabla\\cdot\\left([\\begin{matrix} h&0\\end{matrix}] u\\right)\n",
    "+ \\nabla\\cdot\\left([\\begin{matrix} 0&h\\end{matrix}] v\\right) &= 0\n",
    "\\end{aligned}"
   ]
  },
  {
   "cell_type": "code",
   "execution_count": 12,
   "metadata": {
    "collapsed": true
   },
   "outputs": [],
   "source": [
    "coriolisTermX = ImplicitSourceTerm(var=yVelocity,coeff=.5*mesh.y)\n",
    "coriolisTermY = ImplicitSourceTerm(var=xVelocity,coeff=.5*mesh.y)\n",
    "if par[\"Ah\"] != 0: # WITH FRICTION\n",
    "    xVelocityEq = TransientTerm(var=xVelocity) + \\\n",
    "                    ConvectionTerm(coeff=fVelocity,var=xVelocity) - \\\n",
    "                    ImplicitSourceTerm(coeff=fVelocity.divergence, var=xVelocity) - \\\n",
    "                    coriolisTermX == \\\n",
    "                    ConvectionTerm(coeff=[[-1], [0]], var=height) + \\\n",
    "                    DiffusionTerm(coeff=par[\"Ah\"],var=xVelocity)\n",
    "    yVelocityEq = TransientTerm(var=yVelocity) + \\\n",
    "                    ConvectionTerm(coeff=fVelocity,var=yVelocity) - \\\n",
    "                    ImplicitSourceTerm(coeff=fVelocity.divergence, var=yVelocity) + \\\n",
    "                    coriolisTermY == \\\n",
    "                    ConvectionTerm(coeff=[[0], [-1]], var=height) + \\\n",
    "                    DiffusionTerm(coeff=par[\"Ah\"],var=yVelocity)\n",
    "elif par[\"Ah\"] == 0: # WITHOUT FRICTION\n",
    "    xVelocityEq = TransientTerm(var=xVelocity) + \\\n",
    "                    ConvectionTerm(coeff=fVelocity,var=xVelocity) - \\\n",
    "                    ImplicitSourceTerm(coeff=fVelocity.divergence, var=xVelocity) - \\\n",
    "                    coriolisTermX == \\\n",
    "                    ConvectionTerm(coeff=[[-1], [0]], var=height)\n",
    "    yVelocityEq = TransientTerm(var=yVelocity) + \\\n",
    "                    ConvectionTerm(coeff=fVelocity,var=yVelocity) - \\\n",
    "                    ImplicitSourceTerm(coeff=fVelocity.divergence, var=yVelocity) + \\\n",
    "                    coriolisTermY == \\\n",
    "                    ConvectionTerm(coeff=[[0], [-1]], var=height)\n",
    "heightEq = TransientTerm(var=height) + \\\n",
    "            ConvectionTerm(coeff=fVelocity,var=height) \\\n",
    "            == 0\n",
    "eqSystem = xVelocityEq & yVelocityEq & heightEq # couple equations"
   ]
  },
  {
   "cell_type": "markdown",
   "metadata": {},
   "source": [
    "# BOUNDARY CONDITIONS"
   ]
  },
  {
   "cell_type": "code",
   "execution_count": 13,
   "metadata": {
    "collapsed": true
   },
   "outputs": [],
   "source": [
    "xVelocity.constrain(0., mesh.exteriorFaces)\n",
    "yVelocity.constrain(0., mesh.exteriorFaces)\n",
    "height.faceGrad.constrain(0., mesh.exteriorFaces)"
   ]
  },
  {
   "cell_type": "markdown",
   "metadata": {},
   "source": [
    "# SET UP VIEWERS"
   ]
  },
  {
   "cell_type": "code",
   "execution_count": 19,
   "metadata": {
    "collapsed": false
   },
   "outputs": [],
   "source": [
    "if have_seaborn:\n",
    "    cmap = sns.diverging_palette(220, 10, as_cmap=True)\n",
    "else:\n",
    "    cmap = plt.get_cmap(\"coolwarm\")\n",
    "mplViewers = []\n",
    "for var in (height,xVelocity,yVelocity):\n",
    "    mplViewers.append(MatplotlibViewer(vars=(var),\n",
    "        xmin=-par[\"L\"][0]/2 * KM_TO_X, xmax=par[\"L\"][0]/2 * KM_TO_X,\n",
    "        ymin=-par[\"L\"][1]/2 * KM_TO_X, ymax=par[\"L\"][1]/2 * KM_TO_X,\n",
    "        colorbar=True, cmap=cmap))\n",
    "viewer = MultiViewer(mplViewers)\n",
    "# fViewer = MatplotlibVectorViewer(vars=fVelocity,\n",
    "#        xmin=-par[\"L\"][0]/2 * KM_TO_X, xmax=par[\"L\"][0]/2 * KM_TO_X,\n",
    "#        ymin=-par[\"L\"][1]/2 * KM_TO_X, ymax=par[\"L\"][1]/2 * KM_TO_X,\n",
    "#        sparsity=100, scale=.5)\n",
    "\n",
    "# StreamPlot doesn't like zero everywhere\n",
    "fVelocity[0,0] = 1.\n",
    "fViewer = MatplotlibStreamViewer(vars=fVelocity,\n",
    "        xmin=-par[\"L\"][0]/2 * KM_TO_X, xmax=par[\"L\"][0]/2 * KM_TO_X,\n",
    "        ymin=-par[\"L\"][1]/2 * KM_TO_X, ymax=par[\"L\"][1]/2 * KM_TO_X,\n",
    "        color=fVelocity.mag)\n",
    "vtkViewer = VTKCellViewer(vars=(height, xVelocity, yVelocity))"
   ]
  },
  {
   "cell_type": "markdown",
   "metadata": {},
   "source": [
    "## CONCENIENCE FUNCTION TO PLOT ALL VIEWERS AT ONCE"
   ]
  },
  {
   "cell_type": "code",
   "execution_count": 20,
   "metadata": {
    "collapsed": true
   },
   "outputs": [],
   "source": [
    "def output(t):\n",
    "    for v in viewer.viewers:\n",
    "        v.plot(\"{0}/{1}-{2:.2f}days.png\"\\\n",
    "                .format(OUTPUT_PATH,v.title,t/DAY_TO_T))\n",
    "#    fViewer.quiver()\n",
    "    fViewer.plot(\"{0}/velocity-{1:.2f}days.png\".format(OUTPUT_PATH,t/DAY_TO_T))\n",
    "    vtkViewer.plot(\"{0}/day{1:.2f}.vtu\".format(OUTPUT_PATH,t/DAY_TO_T))"
   ]
  },
  {
   "cell_type": "markdown",
   "metadata": {},
   "source": [
    "## PLOT INITIAL STATE"
   ]
  },
  {
   "cell_type": "code",
   "execution_count": 21,
   "metadata": {
    "collapsed": false
   },
   "outputs": [],
   "source": [
    "output(0)"
   ]
  },
  {
   "cell_type": "markdown",
   "metadata": {},
   "source": [
    "# MAIN TIME LOOP"
   ]
  },
  {
   "cell_type": "code",
   "execution_count": 22,
   "metadata": {
    "collapsed": false
   },
   "outputs": [
    {
     "name": "stdout",
     "output_type": "stream",
     "text": [
      "\n",
      "REDUCING DT\n",
      "Residual: 7.12e-09\n",
      "REDUCING DT\n",
      "Residual: 1.35e-11\n",
      "INCREASING DT\n",
      " Current time: 2.5e-02\tTime step: 3.0e-02\n",
      "Residual: 7.01e-11\n",
      "INCREASING DT\n",
      " Current time: 5.5e-02\tTime step: 3.6e-02\n",
      "Residual: 3.15e-10\n",
      "REDUCING DT\n",
      "Residual: 4.05e-11\n",
      "INCREASING DT\n",
      " Current time: 7.3e-02\tTime step: 2.2e-02\n",
      "\n",
      "INCREASING DT\n",
      " Current time: 9.5e-02\tTime step: 2.6e-02\n",
      "Residual: 1.22e-11\n",
      "INCREASING DT\n",
      " Current time: 1.2e-01\tTime step: 3.1e-02\n",
      "Residual: 5.75e-11\n",
      "INCREASING DT\n",
      " Current time: 1.5e-01\tTime step: 3.7e-02\n",
      "Residual: 2.81e-10\n",
      "REDUCING DT\n",
      "Residual: 3.71e-11\n",
      "INCREASING DT\n",
      " Current time: 1.7e-01\tTime step: 2.2e-02\n",
      "\n",
      "INCREASING DT\n",
      " Current time: 1.9e-01\tTime step: 2.7e-02\n",
      "Residual: 1.26e-11\n",
      "INCREASING DT\n",
      " Current time: 2.2e-01\tTime step: 3.2e-02\n",
      "Residual: 6.60e-11\n",
      "INCREASING DT\n",
      " Current time: 2.5e-01\tTime step: 3.9e-02\n",
      "Residual: 3.54e-10\n",
      "REDUCING DT\n",
      "Residual: 4.69e-11\n",
      "INCREASING DT\n",
      " Current time: 2.7e-01\tTime step: 2.3e-02\n",
      "\n",
      "INCREASING DT\n",
      " Current time: 2.9e-01\tTime step: 2.8e-02\n",
      "Residual: 1.65e-11\n",
      "INCREASING DT\n",
      " Current time: 3.2e-01\tTime step: 3.3e-02\n",
      "Residual: 8.75e-11\n",
      "LIMITING DT\n",
      " Current time: 3.6e-01\tTime step: 3.1e-02\n",
      "Residual: 4.08e-11\n",
      "INCREASING DT\n",
      " Current time: 3.9e-01\tTime step: 4.8e-02\n",
      "Residual: 2.52e-09\n",
      "REDUCING DT\n",
      "\n",
      "INCREASING DT\n",
      " Current time: 4.1e-01\tTime step: 2.9e-02\n",
      "Residual: 2.21e-11\n",
      "INCREASING DT\n",
      " Current time: 4.4e-01\tTime step: 3.5e-02\n",
      "Residual: 1.17e-10\n",
      "REDUCING DT\n",
      "Residual: 1.35e-11\n",
      "INCREASING DT\n",
      " Current time: 4.6e-01\tTime step: 2.1e-02\n",
      "\n",
      "INCREASING DT\n",
      " Current time: 4.8e-01\tTime step: 2.5e-02\n",
      "\n",
      "INCREASING DT\n",
      " Current time: 5.0e-01\tTime step: 3.0e-02\n",
      "Residual: 2.99e-11\n",
      "INCREASING DT\n",
      " Current time: 5.3e-01\tTime step: 3.6e-02\n",
      "Residual: 1.57e-10\n",
      "REDUCING DT\n",
      "Residual: 1.87e-11\n",
      "INCREASING DT\n",
      " Current time: 5.5e-01\tTime step: 2.2e-02\n",
      "\n",
      "INCREASING DT\n",
      " Current time: 5.7e-01\tTime step: 2.6e-02\n",
      "\n",
      "INCREASING DT\n",
      " Current time: 6.0e-01\tTime step: 3.1e-02\n",
      "Residual: 4.01e-11\n",
      "INCREASING DT\n",
      " Current time: 6.3e-01\tTime step: 3.7e-02\n",
      "Residual: 2.10e-10\n",
      "REDUCING DT\n",
      "Residual: 2.58e-11\n",
      "INCREASING DT\n",
      " Current time: 6.5e-01\tTime step: 2.2e-02\n",
      "\n",
      "INCREASING DT\n",
      " Current time: 6.7e-01\tTime step: 2.7e-02\n",
      "Residual: 1.01e-11\n",
      "INCREASING DT\n",
      " Current time: 7.0e-01\tTime step: 3.2e-02\n",
      "Residual: 5.26e-11\n",
      "INCREASING DT\n",
      " Current time: 7.3e-01\tTime step: 3.9e-02\n",
      "Residual: 2.76e-10\n",
      "REDUCING DT\n",
      "Residual: 3.50e-11\n",
      "INCREASING DT\n",
      " Current time: 7.5e-01\tTime step: 2.3e-02\n",
      "\n",
      "LIMITING DT\n",
      " Current time: 7.7e-01\tTime step: 1.4e-03\n",
      "\n",
      "INCREASING DT\n",
      " Current time: 7.7e-01\tTime step: 3.3e-02\n",
      "Residual: 7.14e-11\n",
      "INCREASING DT\n",
      " Current time: 8.1e-01\tTime step: 4.0e-02\n",
      "Residual: 3.75e-10\n",
      "REDUCING DT\n",
      "Residual: 4.92e-11\n",
      "INCREASING DT\n",
      " Current time: 8.3e-01\tTime step: 2.4e-02\n",
      "\n",
      "INCREASING DT\n",
      " Current time: 8.5e-01\tTime step: 2.9e-02\n",
      "Residual: 1.85e-11\n",
      "INCREASING DT\n",
      " Current time: 8.8e-01\tTime step: 3.5e-02\n",
      "Residual: 9.49e-11\n",
      "INCREASING DT\n",
      " Current time: 9.1e-01\tTime step: 4.2e-02\n",
      "Residual: 4.99e-10\n",
      "REDUCING DT\n",
      "Residual: 6.81e-11\n",
      "INCREASING DT\n",
      " Current time: 9.3e-01\tTime step: 2.5e-02\n",
      "\n",
      "INCREASING DT\n",
      " Current time: 9.6e-01\tTime step: 3.0e-02\n",
      "Residual: 2.48e-11\n",
      "INCREASING DT\n",
      " Current time: 9.9e-01\tTime step: 3.6e-02\n",
      "Residual: 1.31e-10\n",
      "REDUCING DT\n",
      "Residual: 1.53e-11\n",
      "INCREASING DT\n",
      " Current time: 1.0e+00\tTime step: 2.2e-02\n",
      "\n",
      "INCREASING DT\n",
      " Current time: 1.0e+00\tTime step: 2.6e-02\n",
      "\n",
      "INCREASING DT\n",
      " Current time: 1.1e+00\tTime step: 3.1e-02\n",
      "Residual: 3.39e-11\n",
      "INCREASING DT\n",
      " Current time: 1.1e+00\tTime step: 3.7e-02\n",
      "Residual: 1.79e-10\n",
      "REDUCING DT\n",
      "Residual: 2.16e-11\n",
      "INCREASING DT\n",
      " Current time: 1.1e+00\tTime step: 2.2e-02\n",
      "\n",
      "INCREASING DT\n",
      " Current time: 1.1e+00\tTime step: 2.7e-02\n",
      "Residual: 9.02e-12\n",
      "LIMITING DT\n",
      " Current time: 1.2e+00\tTime step: 5.9e-03\n",
      "Residual: 9.30e-11\n",
      "INCREASING DT\n",
      " Current time: 1.2e+00\tTime step: 3.9e-02\n",
      "Residual: 2.50e-10\n",
      "REDUCING DT\n",
      "Residual: 3.14e-11\n",
      "INCREASING DT\n",
      " Current time: 1.2e+00\tTime step: 2.3e-02\n",
      "\n",
      "INCREASING DT\n",
      " Current time: 1.2e+00\tTime step: 2.8e-02\n",
      "Residual: 1.23e-11\n",
      "INCREASING DT\n",
      " Current time: 1.2e+00\tTime step: 3.3e-02\n",
      "Residual: 6.44e-11\n",
      "INCREASING DT\n",
      " Current time: 1.3e+00\tTime step: 4.0e-02\n",
      "Residual: 3.42e-10\n",
      "REDUCING DT\n",
      "Residual: 4.46e-11\n",
      "INCREASING DT\n",
      " Current time: 1.3e+00\tTime step: 2.4e-02\n",
      "\n",
      "INCREASING DT\n",
      " Current time: 1.3e+00\tTime step: 2.9e-02\n",
      "Residual: 1.70e-11\n",
      "INCREASING DT\n",
      " Current time: 1.3e+00\tTime step: 3.5e-02\n",
      "Residual: 8.98e-11\n",
      "INCREASING DT\n",
      " Current time: 1.4e+00\tTime step: 4.1e-02\n",
      "Residual: 4.82e-10\n",
      "REDUCING DT\n",
      "Residual: 6.51e-11\n",
      "INCREASING DT\n",
      " Current time: 1.4e+00\tTime step: 2.5e-02\n",
      "\n",
      "INCREASING DT\n",
      " Current time: 1.4e+00\tTime step: 3.0e-02\n",
      "Residual: 2.41e-11\n",
      "INCREASING DT\n",
      " Current time: 1.4e+00\tTime step: 3.6e-02\n",
      "Residual: 1.28e-10\n",
      "REDUCING DT\n",
      "Residual: 1.49e-11\n",
      "INCREASING DT\n",
      " Current time: 1.5e+00\tTime step: 2.1e-02\n",
      "\n",
      "INCREASING DT\n",
      " Current time: 1.5e+00\tTime step: 2.6e-02\n",
      "\n",
      "INCREASING DT\n",
      " Current time: 1.5e+00\tTime step: 3.1e-02\n",
      "Residual: 3.43e-11\n",
      "LIMITING DT\n",
      " Current time: 1.5e+00\tTime step: 3.9e-03\n",
      "Residual: 1.18e-11\n",
      "INCREASING DT\n",
      " Current time: 1.5e+00\tTime step: 4.5e-02\n",
      "Residual: 9.94e-10\n",
      "REDUCING DT\n",
      "\n",
      "INCREASING DT\n",
      " Current time: 1.6e+00\tTime step: 2.7e-02\n",
      "Residual: 9.13e-12\n",
      "INCREASING DT\n",
      " Current time: 1.6e+00\tTime step: 3.2e-02\n",
      "Residual: 4.84e-11\n",
      "INCREASING DT\n",
      " Current time: 1.6e+00\tTime step: 3.9e-02\n",
      "Residual: 2.59e-10\n",
      "REDUCING DT\n",
      "Residual: 3.23e-11\n",
      "INCREASING DT\n",
      " Current time: 1.6e+00\tTime step: 2.3e-02\n",
      "\n",
      "INCREASING DT\n",
      " Current time: 1.7e+00\tTime step: 2.8e-02\n",
      "Residual: 1.28e-11\n",
      "INCREASING DT\n",
      " Current time: 1.7e+00\tTime step: 3.3e-02\n",
      "Residual: 6.82e-11\n",
      "INCREASING DT\n",
      " Current time: 1.7e+00\tTime step: 4.0e-02\n",
      "Residual: 3.69e-10\n",
      "REDUCING DT\n",
      "Residual: 4.83e-11\n",
      "INCREASING DT\n",
      " Current time: 1.8e+00\tTime step: 2.4e-02\n",
      "\n",
      "INCREASING DT\n",
      " Current time: 1.8e+00\tTime step: 2.9e-02\n",
      "Residual: 1.84e-11\n",
      "INCREASING DT\n",
      " Current time: 1.8e+00\tTime step: 3.4e-02\n",
      "Residual: 9.96e-11\n",
      "INCREASING DT\n",
      " Current time: 1.8e+00\tTime step: 4.1e-02\n",
      "Residual: 5.50e-10\n",
      "REDUCING DT\n",
      "Residual: 7.47e-11\n",
      "INCREASING DT\n",
      " Current time: 1.9e+00\tTime step: 2.5e-02\n",
      "\n",
      "INCREASING DT\n",
      " Current time: 1.9e+00\tTime step: 3.0e-02\n",
      "Residual: 2.72e-11\n",
      "LIMITING DT\n",
      " Current time: 1.9e+00\tTime step: 1.9e-02\n",
      "\n",
      "INCREASING DT\n",
      " Current time: 1.9e+00\tTime step: 4.3e-02\n",
      "Residual: 8.18e-10\n",
      "REDUCING DT\n",
      "\n",
      "INCREASING DT\n",
      " Current time: 2.0e+00\tTime step: 2.6e-02\n",
      "\n",
      "INCREASING DT\n",
      " Current time: 2.0e+00\tTime step: 3.1e-02\n",
      "Residual: 3.96e-11\n",
      "INCREASING DT\n",
      " Current time: 2.0e+00\tTime step: 3.7e-02\n",
      "Residual: 2.15e-10\n",
      "REDUCING DT\n",
      "Residual: 2.62e-11\n",
      "INCREASING DT\n",
      " Current time: 2.0e+00\tTime step: 2.2e-02\n",
      "\n",
      "INCREASING DT\n",
      " Current time: 2.1e+00\tTime step: 2.7e-02\n",
      "Residual: 1.06e-11\n",
      "INCREASING DT\n",
      " Current time: 2.1e+00\tTime step: 3.2e-02\n",
      "Residual: 5.69e-11\n",
      "INCREASING DT\n",
      " Current time: 2.1e+00\tTime step: 3.8e-02\n",
      "Residual: 3.12e-10\n",
      "REDUCING DT\n",
      "Residual: 4.00e-11\n",
      "INCREASING DT\n",
      " Current time: 2.1e+00\tTime step: 2.3e-02\n",
      "\n",
      "INCREASING DT\n",
      " Current time: 2.2e+00\tTime step: 2.8e-02\n",
      "Residual: 1.56e-11\n",
      "INCREASING DT\n",
      " Current time: 2.2e+00\tTime step: 3.3e-02\n",
      "Residual: 8.51e-11\n",
      "INCREASING DT\n",
      " Current time: 2.2e+00\tTime step: 4.0e-02\n"
     ]
    },
    {
     "ename": "KeyboardInterrupt",
     "evalue": "",
     "output_type": "error",
     "traceback": [
      "\u001b[0;31m---------------------------------------------------------------------------\u001b[0m",
      "\u001b[0;31mKeyboardInterrupt\u001b[0m                         Traceback (most recent call last)",
      "\u001b[0;32m<ipython-input-22-1854446a3cf0>\u001b[0m in \u001b[0;36m<module>\u001b[0;34m()\u001b[0m\n\u001b[1;32m     12\u001b[0m         \u001b[0mfVelocity\u001b[0m\u001b[0;34m[\u001b[0m\u001b[0;36m1\u001b[0m\u001b[0;34m]\u001b[0m \u001b[0;34m=\u001b[0m \u001b[0myVelocity\u001b[0m\u001b[0;34m.\u001b[0m\u001b[0marithmeticFaceValue\u001b[0m\u001b[0;34m\u001b[0m\u001b[0m\n\u001b[1;32m     13\u001b[0m         \u001b[0mfVelocity\u001b[0m\u001b[0;34m[\u001b[0m\u001b[0;34m.\u001b[0m\u001b[0;34m.\u001b[0m\u001b[0;34m.\u001b[0m\u001b[0;34m,\u001b[0m \u001b[0mmesh\u001b[0m\u001b[0;34m.\u001b[0m\u001b[0mexteriorFaces\u001b[0m\u001b[0;34m.\u001b[0m\u001b[0mvalue\u001b[0m\u001b[0;34m]\u001b[0m \u001b[0;34m=\u001b[0m \u001b[0;36m0.\u001b[0m\u001b[0;34m\u001b[0m\u001b[0m\n\u001b[0;32m---> 14\u001b[0;31m         \u001b[0mresidual\u001b[0m \u001b[0;34m=\u001b[0m \u001b[0meqSystem\u001b[0m\u001b[0;34m.\u001b[0m\u001b[0msweep\u001b[0m\u001b[0;34m(\u001b[0m\u001b[0mdt\u001b[0m \u001b[0;34m=\u001b[0m \u001b[0mdt\u001b[0m\u001b[0;34m)\u001b[0m\u001b[0;34m\u001b[0m\u001b[0m\n\u001b[0m\u001b[1;32m     15\u001b[0m         \u001b[0mj\u001b[0m \u001b[0;34m+=\u001b[0m \u001b[0;36m1\u001b[0m\u001b[0;34m\u001b[0m\u001b[0m\n\u001b[1;32m     16\u001b[0m         \u001b[0;32mif\u001b[0m \u001b[0mj\u001b[0m \u001b[0;34m>\u001b[0m \u001b[0mpar\u001b[0m\u001b[0;34m[\u001b[0m\u001b[0;34m\"maxIterations\"\u001b[0m\u001b[0;34m]\u001b[0m\u001b[0;34m:\u001b[0m\u001b[0;34m\u001b[0m\u001b[0m\n",
      "\u001b[0;32m/Users/guyer/Documents/research/FiPy/fipy/fipy/terms/term.pyc\u001b[0m in \u001b[0;36msweep\u001b[0;34m(self, var, solver, boundaryConditions, dt, underRelaxation, residualFn, cacheResidual, cacheError)\u001b[0m\n\u001b[1;32m    221\u001b[0m \u001b[0;34m\u001b[0m\u001b[0m\n\u001b[1;32m    222\u001b[0m         \"\"\"\n\u001b[0;32m--> 223\u001b[0;31m         \u001b[0msolver\u001b[0m \u001b[0;34m=\u001b[0m \u001b[0mself\u001b[0m\u001b[0;34m.\u001b[0m\u001b[0m_prepareLinearSystem\u001b[0m\u001b[0;34m(\u001b[0m\u001b[0mvar\u001b[0m\u001b[0;34m=\u001b[0m\u001b[0mvar\u001b[0m\u001b[0;34m,\u001b[0m \u001b[0msolver\u001b[0m\u001b[0;34m=\u001b[0m\u001b[0msolver\u001b[0m\u001b[0;34m,\u001b[0m \u001b[0mboundaryConditions\u001b[0m\u001b[0;34m=\u001b[0m\u001b[0mboundaryConditions\u001b[0m\u001b[0;34m,\u001b[0m \u001b[0mdt\u001b[0m\u001b[0;34m=\u001b[0m\u001b[0mdt\u001b[0m\u001b[0;34m)\u001b[0m\u001b[0;34m\u001b[0m\u001b[0m\n\u001b[0m\u001b[1;32m    224\u001b[0m         \u001b[0msolver\u001b[0m\u001b[0;34m.\u001b[0m\u001b[0m_applyUnderRelaxation\u001b[0m\u001b[0;34m(\u001b[0m\u001b[0munderRelaxation\u001b[0m\u001b[0;34m=\u001b[0m\u001b[0munderRelaxation\u001b[0m\u001b[0;34m)\u001b[0m\u001b[0;34m\u001b[0m\u001b[0m\n\u001b[1;32m    225\u001b[0m         \u001b[0mresidual\u001b[0m \u001b[0;34m=\u001b[0m \u001b[0msolver\u001b[0m\u001b[0;34m.\u001b[0m\u001b[0m_calcResidual\u001b[0m\u001b[0;34m(\u001b[0m\u001b[0mresidualFn\u001b[0m\u001b[0;34m=\u001b[0m\u001b[0mresidualFn\u001b[0m\u001b[0;34m)\u001b[0m\u001b[0;34m\u001b[0m\u001b[0m\n",
      "\u001b[0;32m/Users/guyer/Documents/research/FiPy/fipy/fipy/terms/term.pyc\u001b[0m in \u001b[0;36m_prepareLinearSystem\u001b[0;34m(self, var, solver, boundaryConditions, dt)\u001b[0m\n\u001b[1;32m    155\u001b[0m                                                            \u001b[0mtransientGeomCoeff\u001b[0m\u001b[0;34m=\u001b[0m\u001b[0mself\u001b[0m\u001b[0;34m.\u001b[0m\u001b[0m_getTransientGeomCoeff\u001b[0m\u001b[0;34m(\u001b[0m\u001b[0mvar\u001b[0m\u001b[0;34m)\u001b[0m\u001b[0;34m,\u001b[0m\u001b[0;34m\u001b[0m\u001b[0m\n\u001b[1;32m    156\u001b[0m                                                            \u001b[0mdiffusionGeomCoeff\u001b[0m\u001b[0;34m=\u001b[0m\u001b[0mself\u001b[0m\u001b[0;34m.\u001b[0m\u001b[0m_getDiffusionGeomCoeff\u001b[0m\u001b[0;34m(\u001b[0m\u001b[0mvar\u001b[0m\u001b[0;34m)\u001b[0m\u001b[0;34m,\u001b[0m\u001b[0;34m\u001b[0m\u001b[0m\n\u001b[0;32m--> 157\u001b[0;31m                                                            buildExplicitIfOther=self._buildExplcitIfOther)\n\u001b[0m\u001b[1;32m    158\u001b[0m \u001b[0;34m\u001b[0m\u001b[0m\n\u001b[1;32m    159\u001b[0m         \u001b[0mself\u001b[0m\u001b[0;34m.\u001b[0m\u001b[0m_buildCache\u001b[0m\u001b[0;34m(\u001b[0m\u001b[0mmatrix\u001b[0m\u001b[0;34m,\u001b[0m \u001b[0mRHSvector\u001b[0m\u001b[0;34m)\u001b[0m\u001b[0;34m\u001b[0m\u001b[0m\n",
      "\u001b[0;32m/Users/guyer/Documents/research/FiPy/fipy/fipy/terms/coupledBinaryTerm.pyc\u001b[0m in \u001b[0;36m_buildAndAddMatrices\u001b[0;34m(self, var, SparseMatrix, boundaryConditions, dt, transientGeomCoeff, diffusionGeomCoeff, buildExplicitIfOther)\u001b[0m\n\u001b[1;32m    120\u001b[0m                                                                                      \u001b[0mtransientGeomCoeff\u001b[0m\u001b[0;34m=\u001b[0m\u001b[0muncoupledTerm\u001b[0m\u001b[0;34m.\u001b[0m\u001b[0m_getTransientGeomCoeff\u001b[0m\u001b[0;34m(\u001b[0m\u001b[0mtmpVar\u001b[0m\u001b[0;34m)\u001b[0m\u001b[0;34m,\u001b[0m\u001b[0;34m\u001b[0m\u001b[0m\n\u001b[1;32m    121\u001b[0m                                                                                      \u001b[0mdiffusionGeomCoeff\u001b[0m\u001b[0;34m=\u001b[0m\u001b[0muncoupledTerm\u001b[0m\u001b[0;34m.\u001b[0m\u001b[0m_getDiffusionGeomCoeff\u001b[0m\u001b[0;34m(\u001b[0m\u001b[0mtmpVar\u001b[0m\u001b[0;34m)\u001b[0m\u001b[0;34m,\u001b[0m\u001b[0;34m\u001b[0m\u001b[0m\n\u001b[0;32m--> 122\u001b[0;31m                                                                                      buildExplicitIfOther=buildExplicitIfOther)\n\u001b[0m\u001b[1;32m    123\u001b[0m \u001b[0;34m\u001b[0m\u001b[0m\n\u001b[1;32m    124\u001b[0m                 \u001b[0mtermMatrix\u001b[0m \u001b[0;34m+=\u001b[0m \u001b[0mtmpMatrix\u001b[0m\u001b[0;34m\u001b[0m\u001b[0m\n",
      "\u001b[0;32m/Users/guyer/Documents/research/FiPy/fipy/fipy/terms/binaryTerm.pyc\u001b[0m in \u001b[0;36m_buildAndAddMatrices\u001b[0;34m(self, var, SparseMatrix, boundaryConditions, dt, transientGeomCoeff, diffusionGeomCoeff, buildExplicitIfOther)\u001b[0m\n\u001b[1;32m     66\u001b[0m                                                                         \u001b[0mtransientGeomCoeff\u001b[0m\u001b[0;34m=\u001b[0m\u001b[0mtransientGeomCoeff\u001b[0m\u001b[0;34m,\u001b[0m\u001b[0;34m\u001b[0m\u001b[0m\n\u001b[1;32m     67\u001b[0m                                                                         \u001b[0mdiffusionGeomCoeff\u001b[0m\u001b[0;34m=\u001b[0m\u001b[0mdiffusionGeomCoeff\u001b[0m\u001b[0;34m,\u001b[0m\u001b[0;34m\u001b[0m\u001b[0m\n\u001b[0;32m---> 68\u001b[0;31m                                                                         buildExplicitIfOther=buildExplicitIfOther)\n\u001b[0m\u001b[1;32m     69\u001b[0m \u001b[0;34m\u001b[0m\u001b[0m\n\u001b[1;32m     70\u001b[0m             \u001b[0mmatrix\u001b[0m \u001b[0;34m+=\u001b[0m \u001b[0mtmpMatrix\u001b[0m\u001b[0;34m\u001b[0m\u001b[0m\n",
      "\u001b[0;32m/Users/guyer/Documents/research/FiPy/fipy/fipy/terms/unaryTerm.pyc\u001b[0m in \u001b[0;36m_buildAndAddMatrices\u001b[0;34m(self, var, SparseMatrix, boundaryConditions, dt, transientGeomCoeff, diffusionGeomCoeff, buildExplicitIfOther)\u001b[0m\n\u001b[1;32m     97\u001b[0m                                                        \u001b[0mdt\u001b[0m\u001b[0;34m=\u001b[0m\u001b[0mdt\u001b[0m\u001b[0;34m,\u001b[0m\u001b[0;34m\u001b[0m\u001b[0m\n\u001b[1;32m     98\u001b[0m                                                        \u001b[0mtransientGeomCoeff\u001b[0m\u001b[0;34m=\u001b[0m\u001b[0mtransientGeomCoeff\u001b[0m\u001b[0;34m,\u001b[0m\u001b[0;34m\u001b[0m\u001b[0m\n\u001b[0;32m---> 99\u001b[0;31m                                                        diffusionGeomCoeff=diffusionGeomCoeff)\n\u001b[0m\u001b[1;32m    100\u001b[0m         \u001b[0;32melif\u001b[0m \u001b[0mbuildExplicitIfOther\u001b[0m\u001b[0;34m:\u001b[0m\u001b[0;34m\u001b[0m\u001b[0m\n\u001b[1;32m    101\u001b[0m             _, matrix, RHSvector = self._buildMatrix(self.var,\n",
      "\u001b[0;32m/Users/guyer/Documents/research/FiPy/fipy/fipy/terms/abstractConvectionTerm.pyc\u001b[0m in \u001b[0;36m_buildMatrix\u001b[0;34m(self, var, SparseMatrix, boundaryConditions, dt, transientGeomCoeff, diffusionGeomCoeff)\u001b[0m\n\u001b[1;32m    213\u001b[0m         \u001b[0mids\u001b[0m \u001b[0;34m=\u001b[0m \u001b[0mself\u001b[0m\u001b[0;34m.\u001b[0m\u001b[0m_reshapeIDs\u001b[0m\u001b[0;34m(\u001b[0m\u001b[0mvar\u001b[0m\u001b[0;34m,\u001b[0m \u001b[0mnumerix\u001b[0m\u001b[0;34m.\u001b[0m\u001b[0marange\u001b[0m\u001b[0;34m(\u001b[0m\u001b[0mmesh\u001b[0m\u001b[0;34m.\u001b[0m\u001b[0mnumberOfCells\u001b[0m\u001b[0;34m)\u001b[0m\u001b[0;34m)\u001b[0m\u001b[0;34m\u001b[0m\u001b[0m\n\u001b[1;32m    214\u001b[0m         \u001b[0mL\u001b[0m\u001b[0;34m.\u001b[0m\u001b[0maddAt\u001b[0m\u001b[0;34m(\u001b[0m\u001b[0mnumerix\u001b[0m\u001b[0;34m.\u001b[0m\u001b[0marray\u001b[0m\u001b[0;34m(\u001b[0m\u001b[0mself\u001b[0m\u001b[0;34m.\u001b[0m\u001b[0mconstraintL\u001b[0m\u001b[0;34m)\u001b[0m\u001b[0;34m.\u001b[0m\u001b[0mravel\u001b[0m\u001b[0;34m(\u001b[0m\u001b[0;34m)\u001b[0m\u001b[0;34m,\u001b[0m \u001b[0mids\u001b[0m\u001b[0;34m.\u001b[0m\u001b[0mravel\u001b[0m\u001b[0;34m(\u001b[0m\u001b[0;34m)\u001b[0m\u001b[0;34m,\u001b[0m \u001b[0mids\u001b[0m\u001b[0;34m.\u001b[0m\u001b[0mswapaxes\u001b[0m\u001b[0;34m(\u001b[0m\u001b[0;36m0\u001b[0m\u001b[0;34m,\u001b[0m\u001b[0;36m1\u001b[0m\u001b[0;34m)\u001b[0m\u001b[0;34m.\u001b[0m\u001b[0mravel\u001b[0m\u001b[0;34m(\u001b[0m\u001b[0;34m)\u001b[0m\u001b[0;34m)\u001b[0m\u001b[0;34m\u001b[0m\u001b[0m\n\u001b[0;32m--> 215\u001b[0;31m         \u001b[0mb\u001b[0m \u001b[0;34m+=\u001b[0m \u001b[0mnumerix\u001b[0m\u001b[0;34m.\u001b[0m\u001b[0mreshape\u001b[0m\u001b[0;34m(\u001b[0m\u001b[0mself\u001b[0m\u001b[0;34m.\u001b[0m\u001b[0mconstraintB\u001b[0m\u001b[0;34m.\u001b[0m\u001b[0mvalue\u001b[0m\u001b[0;34m,\u001b[0m \u001b[0mids\u001b[0m\u001b[0;34m.\u001b[0m\u001b[0mshape\u001b[0m\u001b[0;34m)\u001b[0m\u001b[0;34m.\u001b[0m\u001b[0msum\u001b[0m\u001b[0;34m(\u001b[0m\u001b[0;36m0\u001b[0m\u001b[0;34m)\u001b[0m\u001b[0;34m.\u001b[0m\u001b[0mravel\u001b[0m\u001b[0;34m(\u001b[0m\u001b[0;34m)\u001b[0m\u001b[0;34m\u001b[0m\u001b[0m\n\u001b[0m\u001b[1;32m    216\u001b[0m \u001b[0;34m\u001b[0m\u001b[0m\n\u001b[1;32m    217\u001b[0m         \u001b[0;32mreturn\u001b[0m \u001b[0;34m(\u001b[0m\u001b[0mvar\u001b[0m\u001b[0;34m,\u001b[0m \u001b[0mL\u001b[0m\u001b[0;34m,\u001b[0m \u001b[0mb\u001b[0m\u001b[0;34m)\u001b[0m\u001b[0;34m\u001b[0m\u001b[0m\n",
      "\u001b[0;32m/Users/guyer/Documents/research/FiPy/fipy/fipy/variables/variable.pyc\u001b[0m in \u001b[0;36m_getValue\u001b[0;34m(self)\u001b[0m\n\u001b[1;32m    510\u001b[0m \u001b[0;34m\u001b[0m\u001b[0m\n\u001b[1;32m    511\u001b[0m         \u001b[0;32mif\u001b[0m \u001b[0mself\u001b[0m\u001b[0;34m.\u001b[0m\u001b[0mstale\u001b[0m \u001b[0;32mor\u001b[0m \u001b[0;32mnot\u001b[0m \u001b[0mself\u001b[0m\u001b[0;34m.\u001b[0m\u001b[0m_isCached\u001b[0m\u001b[0;34m(\u001b[0m\u001b[0;34m)\u001b[0m \u001b[0;32mor\u001b[0m \u001b[0mself\u001b[0m\u001b[0;34m.\u001b[0m\u001b[0m_value\u001b[0m \u001b[0;32mis\u001b[0m \u001b[0mNone\u001b[0m\u001b[0;34m:\u001b[0m\u001b[0;34m\u001b[0m\u001b[0m\n\u001b[0;32m--> 512\u001b[0;31m             \u001b[0mvalue\u001b[0m \u001b[0;34m=\u001b[0m \u001b[0mself\u001b[0m\u001b[0;34m.\u001b[0m\u001b[0m_calcValue\u001b[0m\u001b[0;34m(\u001b[0m\u001b[0;34m)\u001b[0m\u001b[0;34m\u001b[0m\u001b[0m\n\u001b[0m\u001b[1;32m    513\u001b[0m             \u001b[0;32mif\u001b[0m \u001b[0mself\u001b[0m\u001b[0;34m.\u001b[0m\u001b[0m_isCached\u001b[0m\u001b[0;34m(\u001b[0m\u001b[0;34m)\u001b[0m\u001b[0;34m:\u001b[0m\u001b[0;34m\u001b[0m\u001b[0m\n\u001b[1;32m    514\u001b[0m                 \u001b[0mself\u001b[0m\u001b[0;34m.\u001b[0m\u001b[0m_setValueInternal\u001b[0m\u001b[0;34m(\u001b[0m\u001b[0mvalue\u001b[0m\u001b[0;34m=\u001b[0m\u001b[0mvalue\u001b[0m\u001b[0;34m)\u001b[0m\u001b[0;34m\u001b[0m\u001b[0m\n",
      "\u001b[0;32m/Users/guyer/Documents/research/FiPy/fipy/fipy/variables/operatorVariable.pyc\u001b[0m in \u001b[0;36m_calcValue\u001b[0;34m(self)\u001b[0m\n\u001b[1;32m     76\u001b[0m                     \u001b[0;32mreturn\u001b[0m \u001b[0mself\u001b[0m\u001b[0;34m.\u001b[0m\u001b[0m_execInline\u001b[0m\u001b[0;34m(\u001b[0m\u001b[0mcomment\u001b[0m\u001b[0;34m=\u001b[0m\u001b[0mself\u001b[0m\u001b[0;34m.\u001b[0m\u001b[0mcomment\u001b[0m\u001b[0;34m)\u001b[0m\u001b[0;34m\u001b[0m\u001b[0m\n\u001b[1;32m     77\u001b[0m                 \u001b[0;32melse\u001b[0m\u001b[0;34m:\u001b[0m\u001b[0;34m\u001b[0m\u001b[0m\n\u001b[0;32m---> 78\u001b[0;31m                     \u001b[0;32mreturn\u001b[0m \u001b[0mself\u001b[0m\u001b[0;34m.\u001b[0m\u001b[0m_calcValue_\u001b[0m\u001b[0;34m(\u001b[0m\u001b[0;34m)\u001b[0m\u001b[0;34m\u001b[0m\u001b[0m\n\u001b[0m\u001b[1;32m     79\u001b[0m \u001b[0;34m\u001b[0m\u001b[0m\n\u001b[1;32m     80\u001b[0m         \u001b[0;32mdef\u001b[0m \u001b[0m_calcValue_\u001b[0m\u001b[0;34m(\u001b[0m\u001b[0mself\u001b[0m\u001b[0;34m)\u001b[0m\u001b[0;34m:\u001b[0m\u001b[0;34m\u001b[0m\u001b[0m\n",
      "\u001b[0;32m/Users/guyer/Documents/research/FiPy/fipy/fipy/variables/binaryOperatorVariable.pyc\u001b[0m in \u001b[0;36m_calcValue_\u001b[0;34m(self)\u001b[0m\n\u001b[1;32m     79\u001b[0m                 \u001b[0mval1\u001b[0m \u001b[0;34m=\u001b[0m \u001b[0mself\u001b[0m\u001b[0;34m.\u001b[0m\u001b[0mvar\u001b[0m\u001b[0;34m[\u001b[0m\u001b[0;36m1\u001b[0m\u001b[0;34m]\u001b[0m\u001b[0;34m\u001b[0m\u001b[0m\n\u001b[1;32m     80\u001b[0m \u001b[0;34m\u001b[0m\u001b[0m\n\u001b[0;32m---> 81\u001b[0;31m             \u001b[0;32mreturn\u001b[0m \u001b[0mself\u001b[0m\u001b[0;34m.\u001b[0m\u001b[0mop\u001b[0m\u001b[0;34m(\u001b[0m\u001b[0mself\u001b[0m\u001b[0;34m.\u001b[0m\u001b[0mvar\u001b[0m\u001b[0;34m[\u001b[0m\u001b[0;36m0\u001b[0m\u001b[0;34m]\u001b[0m\u001b[0;34m.\u001b[0m\u001b[0mvalue\u001b[0m\u001b[0;34m,\u001b[0m \u001b[0mval1\u001b[0m\u001b[0;34m)\u001b[0m\u001b[0;34m\u001b[0m\u001b[0m\n\u001b[0m\u001b[1;32m     82\u001b[0m \u001b[0;34m\u001b[0m\u001b[0m\n\u001b[1;32m     83\u001b[0m         \u001b[0;34m@\u001b[0m\u001b[0mproperty\u001b[0m\u001b[0;34m\u001b[0m\u001b[0m\n",
      "\u001b[0;32m/Users/guyer/Documents/research/FiPy/fipy/fipy/variables/variable.pyc\u001b[0m in \u001b[0;36m_getValue\u001b[0;34m(self)\u001b[0m\n\u001b[1;32m    510\u001b[0m \u001b[0;34m\u001b[0m\u001b[0m\n\u001b[1;32m    511\u001b[0m         \u001b[0;32mif\u001b[0m \u001b[0mself\u001b[0m\u001b[0;34m.\u001b[0m\u001b[0mstale\u001b[0m \u001b[0;32mor\u001b[0m \u001b[0;32mnot\u001b[0m \u001b[0mself\u001b[0m\u001b[0;34m.\u001b[0m\u001b[0m_isCached\u001b[0m\u001b[0;34m(\u001b[0m\u001b[0;34m)\u001b[0m \u001b[0;32mor\u001b[0m \u001b[0mself\u001b[0m\u001b[0;34m.\u001b[0m\u001b[0m_value\u001b[0m \u001b[0;32mis\u001b[0m \u001b[0mNone\u001b[0m\u001b[0;34m:\u001b[0m\u001b[0;34m\u001b[0m\u001b[0m\n\u001b[0;32m--> 512\u001b[0;31m             \u001b[0mvalue\u001b[0m \u001b[0;34m=\u001b[0m \u001b[0mself\u001b[0m\u001b[0;34m.\u001b[0m\u001b[0m_calcValue\u001b[0m\u001b[0;34m(\u001b[0m\u001b[0;34m)\u001b[0m\u001b[0;34m\u001b[0m\u001b[0m\n\u001b[0m\u001b[1;32m    513\u001b[0m             \u001b[0;32mif\u001b[0m \u001b[0mself\u001b[0m\u001b[0;34m.\u001b[0m\u001b[0m_isCached\u001b[0m\u001b[0;34m(\u001b[0m\u001b[0;34m)\u001b[0m\u001b[0;34m:\u001b[0m\u001b[0;34m\u001b[0m\u001b[0m\n\u001b[1;32m    514\u001b[0m                 \u001b[0mself\u001b[0m\u001b[0;34m.\u001b[0m\u001b[0m_setValueInternal\u001b[0m\u001b[0;34m(\u001b[0m\u001b[0mvalue\u001b[0m\u001b[0;34m=\u001b[0m\u001b[0mvalue\u001b[0m\u001b[0;34m)\u001b[0m\u001b[0;34m\u001b[0m\u001b[0m\n",
      "\u001b[0;32m/Users/guyer/Documents/research/FiPy/fipy/fipy/variables/operatorVariable.pyc\u001b[0m in \u001b[0;36m_calcValue\u001b[0;34m(self)\u001b[0m\n\u001b[1;32m     76\u001b[0m                     \u001b[0;32mreturn\u001b[0m \u001b[0mself\u001b[0m\u001b[0;34m.\u001b[0m\u001b[0m_execInline\u001b[0m\u001b[0;34m(\u001b[0m\u001b[0mcomment\u001b[0m\u001b[0;34m=\u001b[0m\u001b[0mself\u001b[0m\u001b[0;34m.\u001b[0m\u001b[0mcomment\u001b[0m\u001b[0;34m)\u001b[0m\u001b[0;34m\u001b[0m\u001b[0m\n\u001b[1;32m     77\u001b[0m                 \u001b[0;32melse\u001b[0m\u001b[0;34m:\u001b[0m\u001b[0;34m\u001b[0m\u001b[0m\n\u001b[0;32m---> 78\u001b[0;31m                     \u001b[0;32mreturn\u001b[0m \u001b[0mself\u001b[0m\u001b[0;34m.\u001b[0m\u001b[0m_calcValue_\u001b[0m\u001b[0;34m(\u001b[0m\u001b[0;34m)\u001b[0m\u001b[0;34m\u001b[0m\u001b[0m\n\u001b[0m\u001b[1;32m     79\u001b[0m \u001b[0;34m\u001b[0m\u001b[0m\n\u001b[1;32m     80\u001b[0m         \u001b[0;32mdef\u001b[0m \u001b[0m_calcValue_\u001b[0m\u001b[0;34m(\u001b[0m\u001b[0mself\u001b[0m\u001b[0;34m)\u001b[0m\u001b[0;34m:\u001b[0m\u001b[0;34m\u001b[0m\u001b[0m\n",
      "\u001b[0;32m/Users/guyer/Documents/research/FiPy/fipy/fipy/variables/unaryOperatorVariable.pyc\u001b[0m in \u001b[0;36m_calcValue_\u001b[0;34m(self)\u001b[0m\n\u001b[1;32m     65\u001b[0m     \u001b[0;32mclass\u001b[0m \u001b[0munOp\u001b[0m\u001b[0;34m(\u001b[0m\u001b[0moperatorClass\u001b[0m\u001b[0;34m)\u001b[0m\u001b[0;34m:\u001b[0m\u001b[0;34m\u001b[0m\u001b[0m\n\u001b[1;32m     66\u001b[0m         \u001b[0;32mdef\u001b[0m \u001b[0m_calcValue_\u001b[0m\u001b[0;34m(\u001b[0m\u001b[0mself\u001b[0m\u001b[0;34m)\u001b[0m\u001b[0;34m:\u001b[0m\u001b[0;34m\u001b[0m\u001b[0m\n\u001b[0;32m---> 67\u001b[0;31m             \u001b[0;32mreturn\u001b[0m \u001b[0mself\u001b[0m\u001b[0;34m.\u001b[0m\u001b[0mop\u001b[0m\u001b[0;34m(\u001b[0m\u001b[0mself\u001b[0m\u001b[0;34m.\u001b[0m\u001b[0mvar\u001b[0m\u001b[0;34m[\u001b[0m\u001b[0;36m0\u001b[0m\u001b[0;34m]\u001b[0m\u001b[0;34m.\u001b[0m\u001b[0mvalue\u001b[0m\u001b[0;34m)\u001b[0m\u001b[0;34m\u001b[0m\u001b[0m\n\u001b[0m\u001b[1;32m     68\u001b[0m \u001b[0;34m\u001b[0m\u001b[0m\n\u001b[1;32m     69\u001b[0m         \u001b[0;34m@\u001b[0m\u001b[0mproperty\u001b[0m\u001b[0;34m\u001b[0m\u001b[0m\n",
      "\u001b[0;32m/Users/guyer/Documents/research/FiPy/fipy/fipy/variables/variable.pyc\u001b[0m in \u001b[0;36m_getValue\u001b[0;34m(self)\u001b[0m\n\u001b[1;32m    510\u001b[0m \u001b[0;34m\u001b[0m\u001b[0m\n\u001b[1;32m    511\u001b[0m         \u001b[0;32mif\u001b[0m \u001b[0mself\u001b[0m\u001b[0;34m.\u001b[0m\u001b[0mstale\u001b[0m \u001b[0;32mor\u001b[0m \u001b[0;32mnot\u001b[0m \u001b[0mself\u001b[0m\u001b[0;34m.\u001b[0m\u001b[0m_isCached\u001b[0m\u001b[0;34m(\u001b[0m\u001b[0;34m)\u001b[0m \u001b[0;32mor\u001b[0m \u001b[0mself\u001b[0m\u001b[0;34m.\u001b[0m\u001b[0m_value\u001b[0m \u001b[0;32mis\u001b[0m \u001b[0mNone\u001b[0m\u001b[0;34m:\u001b[0m\u001b[0;34m\u001b[0m\u001b[0m\n\u001b[0;32m--> 512\u001b[0;31m             \u001b[0mvalue\u001b[0m \u001b[0;34m=\u001b[0m \u001b[0mself\u001b[0m\u001b[0;34m.\u001b[0m\u001b[0m_calcValue\u001b[0m\u001b[0;34m(\u001b[0m\u001b[0;34m)\u001b[0m\u001b[0;34m\u001b[0m\u001b[0m\n\u001b[0m\u001b[1;32m    513\u001b[0m             \u001b[0;32mif\u001b[0m \u001b[0mself\u001b[0m\u001b[0;34m.\u001b[0m\u001b[0m_isCached\u001b[0m\u001b[0;34m(\u001b[0m\u001b[0;34m)\u001b[0m\u001b[0;34m:\u001b[0m\u001b[0;34m\u001b[0m\u001b[0m\n\u001b[1;32m    514\u001b[0m                 \u001b[0mself\u001b[0m\u001b[0;34m.\u001b[0m\u001b[0m_setValueInternal\u001b[0m\u001b[0;34m(\u001b[0m\u001b[0mvalue\u001b[0m\u001b[0;34m=\u001b[0m\u001b[0mvalue\u001b[0m\u001b[0;34m)\u001b[0m\u001b[0;34m\u001b[0m\u001b[0m\n",
      "\u001b[0;32m/Users/guyer/Documents/research/FiPy/fipy/fipy/variables/addOverFacesVariable.pyc\u001b[0m in \u001b[0;36m_calcValue\u001b[0;34m(self)\u001b[0m\n\u001b[1;32m     51\u001b[0m             \u001b[0;32mreturn\u001b[0m \u001b[0mself\u001b[0m\u001b[0;34m.\u001b[0m\u001b[0m_calcValueInline\u001b[0m\u001b[0;34m(\u001b[0m\u001b[0;34m)\u001b[0m\u001b[0;34m\u001b[0m\u001b[0m\n\u001b[1;32m     52\u001b[0m         \u001b[0;32melse\u001b[0m\u001b[0;34m:\u001b[0m\u001b[0;34m\u001b[0m\u001b[0m\n\u001b[0;32m---> 53\u001b[0;31m             \u001b[0;32mreturn\u001b[0m \u001b[0mself\u001b[0m\u001b[0;34m.\u001b[0m\u001b[0m_calcValueNoInline\u001b[0m\u001b[0;34m(\u001b[0m\u001b[0;34m)\u001b[0m\u001b[0;34m\u001b[0m\u001b[0m\n\u001b[0m\u001b[1;32m     54\u001b[0m \u001b[0;34m\u001b[0m\u001b[0m\n\u001b[1;32m     55\u001b[0m     \u001b[0;32mdef\u001b[0m \u001b[0m_calcValueInline\u001b[0m\u001b[0;34m(\u001b[0m\u001b[0mself\u001b[0m\u001b[0;34m)\u001b[0m\u001b[0;34m:\u001b[0m\u001b[0;34m\u001b[0m\u001b[0m\n",
      "\u001b[0;32m/Users/guyer/Documents/research/FiPy/fipy/fipy/variables/addOverFacesVariable.pyc\u001b[0m in \u001b[0;36m_calcValueNoInline\u001b[0;34m(self)\u001b[0m\n\u001b[1;32m    100\u001b[0m \u001b[0;34m\u001b[0m\u001b[0m\n\u001b[1;32m    101\u001b[0m         return numerix.tensordot(numerix.ones(faceContributions.shape[-2], 'd'),\n\u001b[0;32m--> 102\u001b[0;31m                                  numerix.MA.filled(faceContributions, 0.), (0, -2)) / self.mesh.cellVolumes\n\u001b[0m\u001b[1;32m    103\u001b[0m \u001b[0;34m\u001b[0m\u001b[0m\n\u001b[1;32m    104\u001b[0m \u001b[0;34m\u001b[0m\u001b[0m\n",
      "\u001b[0;32m/Users/guyer/anaconda/envs/fipy_petsc/lib/python2.7/site-packages/numpy/core/numeric.pyc\u001b[0m in \u001b[0;36mtensordot\u001b[0;34m(a, b, axes)\u001b[0m\n\u001b[1;32m   1272\u001b[0m         \u001b[0mna\u001b[0m \u001b[0;34m=\u001b[0m \u001b[0;36m1\u001b[0m\u001b[0;34m\u001b[0m\u001b[0m\n\u001b[1;32m   1273\u001b[0m     \u001b[0;32mtry\u001b[0m\u001b[0;34m:\u001b[0m\u001b[0;34m\u001b[0m\u001b[0m\n\u001b[0;32m-> 1274\u001b[0;31m         \u001b[0mnb\u001b[0m \u001b[0;34m=\u001b[0m \u001b[0mlen\u001b[0m\u001b[0;34m(\u001b[0m\u001b[0maxes_b\u001b[0m\u001b[0;34m)\u001b[0m\u001b[0;34m\u001b[0m\u001b[0m\n\u001b[0m\u001b[1;32m   1275\u001b[0m         \u001b[0maxes_b\u001b[0m \u001b[0;34m=\u001b[0m \u001b[0mlist\u001b[0m\u001b[0;34m(\u001b[0m\u001b[0maxes_b\u001b[0m\u001b[0;34m)\u001b[0m\u001b[0;34m\u001b[0m\u001b[0m\n\u001b[1;32m   1276\u001b[0m     \u001b[0;32mexcept\u001b[0m \u001b[0mTypeError\u001b[0m\u001b[0;34m:\u001b[0m\u001b[0;34m\u001b[0m\u001b[0m\n",
      "\u001b[0;31mKeyboardInterrupt\u001b[0m: "
     ]
    }
   ],
   "source": [
    "t = 0.\n",
    "dt = par[\"timeStepDuration\"]\n",
    "while t < (par[\"t1\"] * DAY_TO_T):\n",
    "    xVelocity.updateOld()\n",
    "    yVelocity.updateOld()\n",
    "    height.updateOld()\n",
    "    residual = 1\n",
    "    j = 0\n",
    "    # ITERATIVE SOLUTION LOOP\n",
    "    while residual > par[\"absTol\"]:\n",
    "        fVelocity[0] = xVelocity.arithmeticFaceValue\n",
    "        fVelocity[1] = yVelocity.arithmeticFaceValue\n",
    "        fVelocity[..., mesh.exteriorFaces.value] = 0.\n",
    "        residual = eqSystem.sweep(dt = dt)\n",
    "        j += 1\n",
    "        if j > par[\"maxIterations\"]:\n",
    "            dt /= par[\"dtDecreaseFactor\"]\n",
    "            print(\"\\nREDUCING DT\")\n",
    "            output_now = False\n",
    "            j = 0\n",
    "        sys.stdout.write(\"Residual: {0:.2e}\\r\".format(residual))\n",
    "    t += dt\n",
    "\n",
    "    # PRINT OUTPUT\n",
    "    if output_now:\n",
    "        output(t)\n",
    "        output_now = False\n",
    "        dt = dtTemp * par[\"dtIncreaseFactor\"]\n",
    "\n",
    "    # CHECK IF OUTPUT IS DUE AFTER NEXT TIME STEP\n",
    "    nextOutput = t % (par[\"outputEvery\"] * DAY_TO_T)\n",
    "    outputTimestep = (par[\"outputEvery\"] * DAY_TO_T) - nextOutput\n",
    "    if outputTimestep < par[\"dtIncreaseFactor\"]*dt:\n",
    "        output_now = True\n",
    "        dtTemp = dt\n",
    "        dt = outputTimestep + 1E-4\n",
    "        print(\"\\nLIMITING DT\\n Current time: {0:.1e}\\tTime step: {1:.1e}\"\\\n",
    "                .format(t,dt))\n",
    "    else:\n",
    "        output_now = False\n",
    "        dt *= par[\"dtIncreaseFactor\"]\n",
    "        print(\"\\nINCREASING DT\\n Current time: {0:.1e}\\tTime step: {1:.1e}\"\\\n",
    "                .format(t,dt))"
   ]
  },
  {
   "cell_type": "code",
   "execution_count": null,
   "metadata": {
    "collapsed": false
   },
   "outputs": [],
   "source": []
  }
 ],
 "metadata": {
  "kernelspec": {
   "display_name": "Python 2",
   "language": "python",
   "name": "python2"
  },
  "language_info": {
   "codemirror_mode": {
    "name": "ipython",
    "version": 2
   },
   "file_extension": ".py",
   "mimetype": "text/x-python",
   "name": "python",
   "nbconvert_exporter": "python",
   "pygments_lexer": "ipython2",
   "version": "2.7.10"
  }
 },
 "nbformat": 4,
 "nbformat_minor": 0
}
