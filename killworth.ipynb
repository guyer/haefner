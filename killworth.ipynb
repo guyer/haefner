{
 "cells": [
  {
   "cell_type": "markdown",
   "metadata": {},
   "source": [
    "Solves the adjustment problem in 2D as described by Killworth et al. (1991):\n",
    "\n",
    " * CROSS-EQUATORIAL GEOSTROPHIC ADJUSTMENT\n",
    " * http://journals.ametsoc.org/doi/pdf/10.1175/1520-0485%281991%29021%3C1581%3ACEGA%3E2.0.CO%3B2\n",
    "\n",
    "Author:\n",
    "        Dion Häfner (mail@dionhaefner.de)"
   ]
  },
  {
   "cell_type": "code",
   "execution_count": 1,
   "metadata": {
    "collapsed": true
   },
   "outputs": [],
   "source": [
    "#%matplotlib inline"
   ]
  },
  {
   "cell_type": "code",
   "execution_count": 2,
   "metadata": {
    "collapsed": true
   },
   "outputs": [],
   "source": [
    "inifile = \"parameters.ini\""
   ]
  },
  {
   "cell_type": "markdown",
   "metadata": {},
   "source": [
    "# IMPORT PACKAGES"
   ]
  },
  {
   "cell_type": "code",
   "execution_count": 3,
   "metadata": {
    "collapsed": false
   },
   "outputs": [],
   "source": [
    "import matplotlib as mpl\n",
    "mpl.use('Agg')\n",
    "from matplotlib import pyplot as plt\n",
    "from fipy import *\n",
    "from fipy.tools import numerix\n",
    "from fipy.meshes.uniformGrid2D import UniformGrid2D\n",
    "import sys\n",
    "import os\n",
    "try:\n",
    "    import seaborn as sns\n",
    "    sns.set(\"talk\")\n",
    "    have_seaborn = True\n",
    "except ImportError:\n",
    "    have_seaborn = False\n",
    "import numpy as np\n",
    "try:\n",
    "    import ConfigParser as configparser\n",
    "except ImportError:\n",
    "    import configparser\n",
    "import sys"
   ]
  },
  {
   "cell_type": "markdown",
   "metadata": {},
   "source": [
    "# INITIALIZATION"
   ]
  },
  {
   "cell_type": "markdown",
   "metadata": {},
   "source": [
    "## DEFINE CUSTOM \"TYPES\""
   ]
  },
  {
   "cell_type": "code",
   "execution_count": 4,
   "metadata": {
    "collapsed": true
   },
   "outputs": [],
   "source": [
    "def floatlist(x):\n",
    "    xlist = x.split()\n",
    "    return list(map(float,xlist))\n",
    "\n",
    "def intlist(x):\n",
    "    xlist = x.split()\n",
    "    return list(map(int,xlist))"
   ]
  },
  {
   "cell_type": "markdown",
   "metadata": {},
   "source": [
    "## SET VALID PARAMETER KEYS"
   ]
  },
  {
   "cell_type": "code",
   "execution_count": 5,
   "metadata": {
    "collapsed": true
   },
   "outputs": [],
   "source": [
    "PARAMETER_KEYS = (\n",
    "    (\"general\", ((\"name\",str),)),\n",
    "    (\"domain\", ((\"L\",floatlist), (\"N\",intlist))),\n",
    "    (\"initial\", ((\"Variable\",str),(\"Val1\",float),(\"Val2\",float),(\"Y\",floatlist))),\n",
    "    (\"parameters\", ((\"Ah\",float),(\"g\",float),(\"beta\",float),(\"H\",float))),\n",
    "    (\"solver\", ((\"t1\",float), (\"dtIncreaseFactor\",float),\n",
    "                (\"dtDecreaseFactor\",float),(\"absTol\",float),\n",
    "                (\"timeStepDuration\",float),(\"maxIterations\",int))),\n",
    "    (\"output\", ((\"outputEvery\",float),))\n",
    ")"
   ]
  },
  {
   "cell_type": "markdown",
   "metadata": {},
   "source": [
    "## PARSE PARAMETER FILE"
   ]
  },
  {
   "cell_type": "code",
   "execution_count": 6,
   "metadata": {
    "collapsed": true
   },
   "outputs": [],
   "source": [
    "par = {}\n",
    "config = configparser.RawConfigParser()\n",
    "config.read(inifile)\n",
    "\n",
    "for section, keys in PARAMETER_KEYS:\n",
    "    for key, key_type in keys:\n",
    "        try:\n",
    "            par[key] = key_type(config.get(section, key))\n",
    "        except ValueError:\n",
    "            raise ValueError(\"Key {0} in section {1} must be of type {2}\"\\\n",
    "                    .format(key,section,key_type))"
   ]
  },
  {
   "cell_type": "markdown",
   "metadata": {},
   "source": [
    "## CONVERSION FACTORS"
   ]
  },
  {
   "cell_type": "code",
   "execution_count": 7,
   "metadata": {
    "collapsed": true
   },
   "outputs": [],
   "source": [
    "MS_TO_V = 1./np.sqrt(par[\"g\"]*par[\"H\"])\n",
    "DAY_TO_T = np.sqrt(2*par[\"beta\"]/MS_TO_V)*(3600*24)\n",
    "KM_TO_X = np.sqrt(2*par[\"beta\"]*MS_TO_V)*1000"
   ]
  },
  {
   "cell_type": "markdown",
   "metadata": {},
   "source": [
    "## CREATE OUTPUT FOLDER"
   ]
  },
  {
   "cell_type": "code",
   "execution_count": 8,
   "metadata": {
    "collapsed": true
   },
   "outputs": [],
   "source": [
    "OUTPUT_PATH = \"output/{0}\".format(par[\"name\"])\n",
    "if not os.path.exists(OUTPUT_PATH):\n",
    "    os.makedirs(OUTPUT_PATH)"
   ]
  },
  {
   "cell_type": "markdown",
   "metadata": {},
   "source": [
    "## MESH SETUP"
   ]
  },
  {
   "cell_type": "code",
   "execution_count": 9,
   "metadata": {
    "collapsed": true
   },
   "outputs": [],
   "source": [
    "dLx = par[\"L\"][0]/par[\"N\"][0]* KM_TO_X\n",
    "dLy = par[\"L\"][1]/par[\"N\"][1]* KM_TO_X\n",
    "mesh = UniformGrid2D(nx=par[\"N\"][0], ny=par[\"N\"][1], dx=dLx, dy=dLy,\n",
    "            origin=((-par[\"L\"][0]/2 * KM_TO_X,),(-par[\"L\"][1]/2 * KM_TO_X,)))"
   ]
  },
  {
   "cell_type": "markdown",
   "metadata": {},
   "source": [
    "## VARIABLE SETUP"
   ]
  },
  {
   "cell_type": "code",
   "execution_count": 10,
   "metadata": {
    "collapsed": true
   },
   "outputs": [],
   "source": [
    "height = CellVariable(mesh=mesh, name='Column height', hasOld=True)\n",
    "xVelocity = CellVariable(mesh=mesh, name='U', value=0., hasOld=True)\n",
    "yVelocity = CellVariable(mesh=mesh, name='V', value=0., hasOld=True)\n",
    "fVelocity = FaceVariable(mesh=mesh, name=\"Face velocity\", rank=1, value=0.)"
   ]
  },
  {
   "cell_type": "markdown",
   "metadata": {},
   "source": [
    "## INITIAL CONDITIONS"
   ]
  },
  {
   "cell_type": "code",
   "execution_count": 11,
   "metadata": {
    "collapsed": true
   },
   "outputs": [],
   "source": [
    "x, y = mesh.cellCenters\n",
    "segment = np.logical_and(par[\"Y\"][0]*KM_TO_X <= y, y <= par[\"Y\"][1]*KM_TO_X)\n",
    "if par[\"Variable\"] == \"height\":\n",
    "    height.setValue(par[\"Val2\"])\n",
    "    height.setValue(par[\"Val1\"], where=segment)\n",
    "elif par[\"Variable\"] == \"U\":\n",
    "    xVelocity.setValue(par[\"Val2\"])\n",
    "    xVelocity.setValue(par[\"Val1\"], where=segment)\n",
    "elif par[\"Variable\"] == \"V\":\n",
    "    yVelocity.setValue(par[\"Val2\"])\n",
    "    yVelocity.setValue(par[\"Val1\"], where=segment)\n",
    "else:\n",
    "    raise ValueError(\"Initial condition parameter 'Variable' must either be \"\n",
    "                    \"'height', 'U', or 'V'\")"
   ]
  },
  {
   "cell_type": "markdown",
   "metadata": {},
   "source": [
    "# EQUATION SETUP"
   ]
  },
  {
   "cell_type": "markdown",
   "metadata": {},
   "source": [
    "x velocity equation\n",
    "\\begin{aligned}\n",
    "u_t + u u_x + v u_y - \\frac{1}{2}y v &= -h_x + A_H(u_{xx} + u_{yy})\n",
    "\\\\\n",
    "\\frac{\\partial u}{\\partial t} + u \\frac{\\partial u}{\\partial x} + v \\frac{\\partial u}{\\partial y} - \\frac{1}{2}y v\n",
    "&= -\\frac{\\partial h}{\\partial x} + A_H\\nabla^2 u\n",
    "\\\\\n",
    "\\frac{\\partial u}{\\partial t} + [\\begin{matrix} u&v\\end{matrix}]\\cdot\\nabla u - \\frac{1}{2}y v\n",
    "&= -[\\begin{matrix} 1&0\\end{matrix}]\\nabla h + A_H\\nabla^2 u\n",
    "\\\\\n",
    "\\frac{\\partial u}{\\partial t} + \\nabla\\cdot\\left([\\begin{matrix} u&v\\end{matrix}] u\\right) - u\\nabla\\cdot[\\begin{matrix} u&v\\end{matrix}] - \\frac{1}{2}y v\n",
    "&= -\\nabla\\cdot\\left([\\begin{matrix} 1&0\\end{matrix}] h\\right) + \\nabla\\cdot\\left(A_H\\nabla u\\right)\n",
    "\\end{aligned}"
   ]
  },
  {
   "cell_type": "markdown",
   "metadata": {},
   "source": [
    "y velocity equation\n",
    "\\begin{aligned}\n",
    "v_t + u v_x + v v_y + \\frac{1}{2}y u &= -h_y + A_H(v_{xx} + v_{yy})\n",
    "\\\\\n",
    "\\frac{\\partial v}{\\partial t} + u \\frac{\\partial v}{\\partial x} + v \\frac{\\partial v}{\\partial y} + \\frac{1}{2}y y\n",
    "&= -\\frac{\\partial h}{\\partial y} + A_H\\nabla^2 v\n",
    "\\\\\n",
    "\\frac{\\partial v}{\\partial t} + [\\begin{matrix} u&v\\end{matrix}]\\cdot\\nabla v + \\frac{1}{2}y u\n",
    "&= -[\\begin{matrix} 0&1\\end{matrix}]\\nabla h + A_H\\nabla^2 v\n",
    "\\\\\n",
    "\\frac{\\partial v}{\\partial t} + \\nabla\\cdot\\left([\\begin{matrix} u&v\\end{matrix}] v\\right) - v\\nabla\\cdot[\\begin{matrix} u&v\\end{matrix}] + \\frac{1}{2}y u\n",
    "&= -\\nabla\\cdot\\left([\\begin{matrix} 0&1\\end{matrix}] h\\right) + \\nabla\\cdot\\left(A_H\\nabla v\\right)\n",
    "\\end{aligned}"
   ]
  },
  {
   "cell_type": "markdown",
   "metadata": {},
   "source": [
    "height equation\n",
    "\\begin{aligned}\n",
    "h_t + (u h)_x + (v h)_y &= 0\n",
    "\\\\\n",
    "\\frac{\\partial h}{\\partial t} + \\frac{\\partial}{\\partial x}(u h) + \\frac{\\partial}{\\partial y}(v h) &= 0\n",
    "\\\\\n",
    "\\frac{\\partial h}{\\partial t} + \\nabla\\cdot\\left([\\begin{matrix} u&v\\end{matrix}] h\\right) &= 0\n",
    "\\end{aligned}\n",
    "It is possible that better coupling can be obtained from\n",
    "\\begin{aligned}\n",
    "\\frac{\\partial h}{\\partial t} \n",
    "+ \\nabla\\cdot\\left([\\begin{matrix} h&0\\end{matrix}] u\\right)\n",
    "+ \\nabla\\cdot\\left([\\begin{matrix} 0&h\\end{matrix}] v\\right) &= 0\n",
    "\\end{aligned}"
   ]
  },
  {
   "cell_type": "code",
   "execution_count": 12,
   "metadata": {
    "collapsed": true
   },
   "outputs": [],
   "source": [
    "coriolisTermX = ImplicitSourceTerm(var=yVelocity,coeff=.5*mesh.y)\n",
    "coriolisTermY = ImplicitSourceTerm(var=xVelocity,coeff=.5*mesh.y)\n",
    "if par[\"Ah\"] != 0: # WITH FRICTION\n",
    "    xVelocityEq = TransientTerm(var=xVelocity) + \\\n",
    "                    ConvectionTerm(coeff=fVelocity,var=xVelocity) - \\\n",
    "                    ImplicitSourceTerm(coeff=fVelocity.divergence, var=xVelocity) - \\\n",
    "                    coriolisTermX == \\\n",
    "                    ConvectionTerm(coeff=[[-1], [0]], var=height) + \\\n",
    "                    DiffusionTerm(coeff=par[\"Ah\"],var=xVelocity)\n",
    "    yVelocityEq = TransientTerm(var=yVelocity) + \\\n",
    "                    ConvectionTerm(coeff=fVelocity,var=yVelocity) - \\\n",
    "                    ImplicitSourceTerm(coeff=fVelocity.divergence, var=yVelocity) + \\\n",
    "                    coriolisTermY == \\\n",
    "                    ConvectionTerm(coeff=[[0], [-1]], var=height) + \\\n",
    "                    DiffusionTerm(coeff=par[\"Ah\"],var=yVelocity)\n",
    "elif par[\"Ah\"] == 0: # WITHOUT FRICTION\n",
    "    xVelocityEq = TransientTerm(var=xVelocity) + \\\n",
    "                    ConvectionTerm(coeff=fVelocity,var=xVelocity) - \\\n",
    "                    ImplicitSourceTerm(coeff=fVelocity.divergence, var=xVelocity) - \\\n",
    "                    coriolisTermX == \\\n",
    "                    ConvectionTerm(coeff=[[-1], [0]], var=height)\n",
    "    yVelocityEq = TransientTerm(var=yVelocity) + \\\n",
    "                    ConvectionTerm(coeff=fVelocity,var=yVelocity) - \\\n",
    "                    ImplicitSourceTerm(coeff=fVelocity.divergence, var=yVelocity) + \\\n",
    "                    coriolisTermY == \\\n",
    "                    ConvectionTerm(coeff=[[0], [-1]], var=height)\n",
    "heightEq = TransientTerm(var=height) + \\\n",
    "            ConvectionTerm(coeff=fVelocity,var=height) \\\n",
    "            == 0\n",
    "eqSystem = xVelocityEq & yVelocityEq & heightEq # couple equations"
   ]
  },
  {
   "cell_type": "markdown",
   "metadata": {},
   "source": [
    "# BOUNDARY CONDITIONS"
   ]
  },
  {
   "cell_type": "code",
   "execution_count": 13,
   "metadata": {
    "collapsed": true
   },
   "outputs": [],
   "source": [
    "xVelocity.constrain(0., mesh.exteriorFaces)\n",
    "yVelocity.constrain(0., mesh.exteriorFaces)\n",
    "height.faceGrad.constrain(0., mesh.exteriorFaces)"
   ]
  },
  {
   "cell_type": "markdown",
   "metadata": {},
   "source": [
    "# SET UP VIEWERS"
   ]
  },
  {
   "cell_type": "code",
   "execution_count": 14,
   "metadata": {
    "collapsed": false
   },
   "outputs": [
    {
     "name": "stderr",
     "output_type": "stream",
     "text": [
      "/Users/guyer/Documents/research/FiPy/fipy/fipy/viewers/matplotlibViewer/matplotlibStreamViewer.py:189: RuntimeWarning: invalid value encountered in greater\n",
      "  mag = numerix.where(mag > datamax, numerix.nan, mag)\n",
      "/Users/guyer/Documents/research/FiPy/fipy/fipy/viewers/matplotlibViewer/matplotlibStreamViewer.py:190: RuntimeWarning: invalid value encountered in less\n",
      "  mag = numerix.where(mag < datamin, numerix.nan, mag)\n",
      "/Users/guyer/anaconda/envs/fipy_petsc/lib/python2.7/site-packages/numpy/ma/core.py:806: RuntimeWarning: invalid value encountered in greater_equal\n",
      "  return umath.absolute(a) * self.tolerance >= umath.absolute(b)\n"
     ]
    }
   ],
   "source": [
    "if have_seaborn:\n",
    "    cmap = sns.diverging_palette(220, 10, as_cmap=True)\n",
    "else:\n",
    "    cmap = plt.get_cmap(\"coolwarm\")\n",
    "mplViewers = []\n",
    "for var in (height,xVelocity,yVelocity):\n",
    "    mplViewers.append(MatplotlibViewer(vars=(var),\n",
    "        xmin=-par[\"L\"][0]/2 * KM_TO_X, xmax=par[\"L\"][0]/2 * KM_TO_X,\n",
    "        ymin=-par[\"L\"][1]/2 * KM_TO_X, ymax=par[\"L\"][1]/2 * KM_TO_X,\n",
    "        colorbar=True, cmap=cmap))\n",
    "viewer = MultiViewer(mplViewers)\n",
    "# fViewer = MatplotlibVectorViewer(vars=fVelocity,\n",
    "#        xmin=-par[\"L\"][0]/2 * KM_TO_X, xmax=par[\"L\"][0]/2 * KM_TO_X,\n",
    "#        ymin=-par[\"L\"][1]/2 * KM_TO_X, ymax=par[\"L\"][1]/2 * KM_TO_X,\n",
    "#        sparsity=100, scale=.5)\n",
    "fViewer = MatplotlibStreamViewer(vars=fVelocity,\n",
    "        xmin=-par[\"L\"][0]/2 * KM_TO_X, xmax=par[\"L\"][0]/2 * KM_TO_X,\n",
    "        ymin=-par[\"L\"][1]/2 * KM_TO_X, ymax=par[\"L\"][1]/2 * KM_TO_X)\n",
    "vtkViewer = VTKCellViewer(vars=(height, xVelocity, yVelocity))"
   ]
  },
  {
   "cell_type": "markdown",
   "metadata": {},
   "source": [
    "## CONCENIENCE FUNCTION TO PLOT ALL VIEWERS AT ONCE"
   ]
  },
  {
   "cell_type": "code",
   "execution_count": 15,
   "metadata": {
    "collapsed": true
   },
   "outputs": [],
   "source": [
    "def output(t):\n",
    "    for v in viewer.viewers:\n",
    "        v.plot(\"{0}/{1}-{2:.2f}days.png\"\\\n",
    "                .format(OUTPUT_PATH,v.title,t/DAY_TO_T))\n",
    "#    fViewer.quiver()\n",
    "    fViewer.plot(\"{0}/velocity-{1:.2f}days.png\".format(OUTPUT_PATH,t/DAY_TO_T))\n",
    "    vtkViewer.plot(\"{0}/day{1:.2f}.vtu\".format(OUTPUT_PATH,t/DAY_TO_T))"
   ]
  },
  {
   "cell_type": "markdown",
   "metadata": {},
   "source": [
    "## PLOT INITIAL STATE"
   ]
  },
  {
   "cell_type": "code",
   "execution_count": 16,
   "metadata": {
    "collapsed": false
   },
   "outputs": [
    {
     "name": "stderr",
     "output_type": "stream",
     "text": [
      "/Users/guyer/anaconda/envs/fipy_petsc/lib/python2.7/site-packages/matplotlib/collections.py:590: FutureWarning: elementwise comparison failed; returning scalar instead, but in the future will perform elementwise comparison\n",
      "  if self._edgecolors == str('face'):\n"
     ]
    }
   ],
   "source": [
    "output(0)"
   ]
  },
  {
   "cell_type": "markdown",
   "metadata": {},
   "source": [
    "# MAIN TIME LOOP"
   ]
  },
  {
   "cell_type": "code",
   "execution_count": null,
   "metadata": {
    "collapsed": false
   },
   "outputs": [
    {
     "name": "stdout",
     "output_type": "stream",
     "text": [
      "\n",
      "REDUCING DT\n",
      "Residual: 7.12e-09\n",
      "REDUCING DT\n",
      "Residual: 1.35e-11\n",
      "INCREASING DT\n",
      " Current time: 2.5e-02\tTime step: 3.0e-02\n",
      "Residual: 7.01e-11\n",
      "INCREASING DT\n",
      " Current time: 5.5e-02\tTime step: 3.6e-02\n",
      "Residual: 3.15e-10\n",
      "REDUCING DT\n",
      "Residual: 4.05e-11\n",
      "INCREASING DT\n",
      " Current time: 7.3e-02\tTime step: 2.2e-02\n",
      "\n",
      "INCREASING DT\n",
      " Current time: 9.5e-02\tTime step: 2.6e-02\n",
      "Residual: 1.22e-11\n",
      "INCREASING DT\n",
      " Current time: 1.2e-01\tTime step: 3.1e-02\n",
      "Residual: 5.75e-11\n",
      "INCREASING DT\n",
      " Current time: 1.5e-01\tTime step: 3.7e-02\n",
      "Residual: 2.81e-10\n",
      "REDUCING DT\n",
      "Residual: 3.71e-11\n",
      "INCREASING DT\n",
      " Current time: 1.7e-01\tTime step: 2.2e-02\n",
      "\n",
      "INCREASING DT\n",
      " Current time: 1.9e-01\tTime step: 2.7e-02\n",
      "Residual: 1.26e-11\n",
      "INCREASING DT\n",
      " Current time: 2.2e-01\tTime step: 3.2e-02\n",
      "Residual: 6.60e-11\n",
      "INCREASING DT\n",
      " Current time: 2.5e-01\tTime step: 3.9e-02\n",
      "Residual: 3.54e-10\n",
      "REDUCING DT\n",
      "Residual: 4.69e-11\n",
      "INCREASING DT\n",
      " Current time: 2.7e-01\tTime step: 2.3e-02\n",
      "\n",
      "INCREASING DT\n",
      " Current time: 2.9e-01\tTime step: 2.8e-02\n",
      "Residual: 1.65e-11\n",
      "INCREASING DT\n",
      " Current time: 3.2e-01\tTime step: 3.3e-02\n",
      "Residual: 8.75e-11\n",
      "LIMITING DT\n",
      " Current time: 3.6e-01\tTime step: 3.1e-02\n",
      "Residual: 4.08e-11\n",
      "INCREASING DT\n",
      " Current time: 3.9e-01\tTime step: 4.8e-02\n",
      "Residual: 2.52e-09\n",
      "REDUCING DT\n",
      "\n",
      "INCREASING DT\n",
      " Current time: 4.1e-01\tTime step: 2.9e-02\n",
      "Residual: 2.21e-11\n",
      "INCREASING DT\n",
      " Current time: 4.4e-01\tTime step: 3.5e-02\n",
      "Residual: 1.17e-10\n",
      "REDUCING DT\n",
      "Residual: 1.35e-11\n",
      "INCREASING DT\n",
      " Current time: 4.6e-01\tTime step: 2.1e-02\n"
     ]
    }
   ],
   "source": [
    "t = 0.\n",
    "dt = par[\"timeStepDuration\"]\n",
    "while t < (par[\"t1\"] * DAY_TO_T):\n",
    "    xVelocity.updateOld()\n",
    "    yVelocity.updateOld()\n",
    "    height.updateOld()\n",
    "    residual = 1\n",
    "    j = 0\n",
    "    # ITERATIVE SOLUTION LOOP\n",
    "    while residual > par[\"absTol\"]:\n",
    "        fVelocity[0] = xVelocity.arithmeticFaceValue\n",
    "        fVelocity[1] = yVelocity.arithmeticFaceValue\n",
    "        fVelocity[..., mesh.exteriorFaces.value] = 0.\n",
    "        residual = eqSystem.sweep(dt = dt)\n",
    "        j += 1\n",
    "        if j > par[\"maxIterations\"]:\n",
    "            dt /= par[\"dtDecreaseFactor\"]\n",
    "            print(\"\\nREDUCING DT\")\n",
    "            output_now = False\n",
    "            j = 0\n",
    "        sys.stdout.write(\"Residual: {0:.2e}\\r\".format(residual))\n",
    "    t += dt\n",
    "\n",
    "    # PRINT OUTPUT\n",
    "    if output_now:\n",
    "        output(t)\n",
    "        output_now = False\n",
    "        dt = dtTemp * par[\"dtIncreaseFactor\"]\n",
    "\n",
    "    # CHECK IF OUTPUT IS DUE AFTER NEXT TIME STEP\n",
    "    nextOutput = t % (par[\"outputEvery\"] * DAY_TO_T)\n",
    "    outputTimestep = (par[\"outputEvery\"] * DAY_TO_T) - nextOutput\n",
    "    if outputTimestep < par[\"dtIncreaseFactor\"]*dt:\n",
    "        output_now = True\n",
    "        dtTemp = dt\n",
    "        dt = outputTimestep + 1E-4\n",
    "        print(\"\\nLIMITING DT\\n Current time: {0:.1e}\\tTime step: {1:.1e}\"\\\n",
    "                .format(t,dt))\n",
    "    else:\n",
    "        output_now = False\n",
    "        dt *= par[\"dtIncreaseFactor\"]\n",
    "        print(\"\\nINCREASING DT\\n Current time: {0:.1e}\\tTime step: {1:.1e}\"\\\n",
    "                .format(t,dt))"
   ]
  },
  {
   "cell_type": "code",
   "execution_count": null,
   "metadata": {
    "collapsed": false
   },
   "outputs": [],
   "source": []
  }
 ],
 "metadata": {
  "kernelspec": {
   "display_name": "Python 2",
   "language": "python",
   "name": "python2"
  },
  "language_info": {
   "codemirror_mode": {
    "name": "ipython",
    "version": 2
   },
   "file_extension": ".py",
   "mimetype": "text/x-python",
   "name": "python",
   "nbconvert_exporter": "python",
   "pygments_lexer": "ipython2",
   "version": "2.7.10"
  }
 },
 "nbformat": 4,
 "nbformat_minor": 0
}
